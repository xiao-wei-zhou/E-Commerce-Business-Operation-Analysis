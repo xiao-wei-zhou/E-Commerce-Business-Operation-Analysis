{
 "cells": [
  {
   "cell_type": "markdown",
   "metadata": {},
   "source": [
    "# E-commerce Business Operation Analysis"
   ]
  },
  {
   "cell_type": "code",
   "execution_count": 1,
   "metadata": {},
   "outputs": [],
   "source": [
    "import pandas as pd"
   ]
  },
  {
   "cell_type": "code",
   "execution_count": 2,
   "metadata": {},
   "outputs": [
    {
     "data": {
      "text/html": [
       "<div>\n",
       "<style scoped>\n",
       "    .dataframe tbody tr th:only-of-type {\n",
       "        vertical-align: middle;\n",
       "    }\n",
       "\n",
       "    .dataframe tbody tr th {\n",
       "        vertical-align: top;\n",
       "    }\n",
       "\n",
       "    .dataframe thead th {\n",
       "        text-align: right;\n",
       "    }\n",
       "</style>\n",
       "<table border=\"1\" class=\"dataframe\">\n",
       "  <thead>\n",
       "    <tr style=\"text-align: right;\">\n",
       "      <th></th>\n",
       "      <th>行 ID</th>\n",
       "      <th>订单 ID</th>\n",
       "      <th>订单日期</th>\n",
       "      <th>发货日期</th>\n",
       "      <th>邮寄方式</th>\n",
       "      <th>客户 ID</th>\n",
       "      <th>客户名称</th>\n",
       "      <th>细分</th>\n",
       "      <th>城市</th>\n",
       "      <th>省/自治区</th>\n",
       "      <th>国家</th>\n",
       "      <th>地区</th>\n",
       "      <th>产品 ID</th>\n",
       "      <th>类别</th>\n",
       "      <th>子类别</th>\n",
       "      <th>产品名称</th>\n",
       "      <th>销售额</th>\n",
       "      <th>数量</th>\n",
       "      <th>折扣</th>\n",
       "      <th>利润</th>\n",
       "    </tr>\n",
       "  </thead>\n",
       "  <tbody>\n",
       "    <tr>\n",
       "      <th>0</th>\n",
       "      <td>1</td>\n",
       "      <td>US-2019-1357144</td>\n",
       "      <td>2019-04-27</td>\n",
       "      <td>2019-04-29</td>\n",
       "      <td>二级</td>\n",
       "      <td>曾惠-14485</td>\n",
       "      <td>曾惠</td>\n",
       "      <td>公司</td>\n",
       "      <td>杭州</td>\n",
       "      <td>浙江</td>\n",
       "      <td>中国</td>\n",
       "      <td>华东</td>\n",
       "      <td>办公用-用品-10002717</td>\n",
       "      <td>办公用品</td>\n",
       "      <td>用品</td>\n",
       "      <td>Fiskars 剪刀, 蓝色</td>\n",
       "      <td>163.696</td>\n",
       "      <td>10</td>\n",
       "      <td>0.37</td>\n",
       "      <td>-60.704</td>\n",
       "    </tr>\n",
       "    <tr>\n",
       "      <th>1</th>\n",
       "      <td>2</td>\n",
       "      <td>CN-2019-1973789</td>\n",
       "      <td>2019-06-15</td>\n",
       "      <td>2019-06-19</td>\n",
       "      <td>标准级</td>\n",
       "      <td>许安-10165</td>\n",
       "      <td>许安</td>\n",
       "      <td>消费者</td>\n",
       "      <td>内江</td>\n",
       "      <td>四川</td>\n",
       "      <td>中国</td>\n",
       "      <td>西南</td>\n",
       "      <td>办公用-信封-10004832</td>\n",
       "      <td>办公用品</td>\n",
       "      <td>信封</td>\n",
       "      <td>GlobeWeis 搭扣信封, 红色</td>\n",
       "      <td>159.440</td>\n",
       "      <td>10</td>\n",
       "      <td>0.00</td>\n",
       "      <td>42.560</td>\n",
       "    </tr>\n",
       "    <tr>\n",
       "      <th>2</th>\n",
       "      <td>3</td>\n",
       "      <td>CN-2019-1973789</td>\n",
       "      <td>2019-06-15</td>\n",
       "      <td>2019-06-19</td>\n",
       "      <td>标准级</td>\n",
       "      <td>许安-10165</td>\n",
       "      <td>许安</td>\n",
       "      <td>消费者</td>\n",
       "      <td>内江</td>\n",
       "      <td>四川</td>\n",
       "      <td>中国</td>\n",
       "      <td>西南</td>\n",
       "      <td>办公用-装订-10001505</td>\n",
       "      <td>办公用品</td>\n",
       "      <td>装订机</td>\n",
       "      <td>Cardinal 孔加固材料, 回收</td>\n",
       "      <td>65.920</td>\n",
       "      <td>10</td>\n",
       "      <td>0.37</td>\n",
       "      <td>4.200</td>\n",
       "    </tr>\n",
       "    <tr>\n",
       "      <th>3</th>\n",
       "      <td>5</td>\n",
       "      <td>CN-2018-2975416</td>\n",
       "      <td>2018-05-31</td>\n",
       "      <td>2018-06-02</td>\n",
       "      <td>二级</td>\n",
       "      <td>万兰-15730</td>\n",
       "      <td>万兰</td>\n",
       "      <td>消费者</td>\n",
       "      <td>汕头</td>\n",
       "      <td>广东</td>\n",
       "      <td>中国</td>\n",
       "      <td>中南</td>\n",
       "      <td>办公用-器具-10003452</td>\n",
       "      <td>办公用品</td>\n",
       "      <td>器具</td>\n",
       "      <td>KitchenAid 搅拌机, 黑色</td>\n",
       "      <td>1409.920</td>\n",
       "      <td>11</td>\n",
       "      <td>0.00</td>\n",
       "      <td>550.200</td>\n",
       "    </tr>\n",
       "    <tr>\n",
       "      <th>4</th>\n",
       "      <td>6</td>\n",
       "      <td>CN-2017-4497736</td>\n",
       "      <td>2017-10-27</td>\n",
       "      <td>2017-10-31</td>\n",
       "      <td>标准级</td>\n",
       "      <td>俞明-18325</td>\n",
       "      <td>俞明</td>\n",
       "      <td>消费者</td>\n",
       "      <td>景德镇</td>\n",
       "      <td>江西</td>\n",
       "      <td>中国</td>\n",
       "      <td>华东</td>\n",
       "      <td>技术-设备-10001640</td>\n",
       "      <td>技术</td>\n",
       "      <td>设备</td>\n",
       "      <td>柯尼卡 打印机, 红色</td>\n",
       "      <td>11163.580</td>\n",
       "      <td>17</td>\n",
       "      <td>0.00</td>\n",
       "      <td>3783.780</td>\n",
       "    </tr>\n",
       "  </tbody>\n",
       "</table>\n",
       "</div>"
      ],
      "text/plain": [
       "   行 ID            订单 ID       订单日期       发货日期 邮寄方式     客户 ID 客户名称   细分   城市  \\\n",
       "0     1  US-2019-1357144 2019-04-27 2019-04-29   二级  曾惠-14485   曾惠   公司   杭州   \n",
       "1     2  CN-2019-1973789 2019-06-15 2019-06-19  标准级  许安-10165   许安  消费者   内江   \n",
       "2     3  CN-2019-1973789 2019-06-15 2019-06-19  标准级  许安-10165   许安  消费者   内江   \n",
       "3     5  CN-2018-2975416 2018-05-31 2018-06-02   二级  万兰-15730   万兰  消费者   汕头   \n",
       "4     6  CN-2017-4497736 2017-10-27 2017-10-31  标准级  俞明-18325   俞明  消费者  景德镇   \n",
       "\n",
       "  省/自治区  国家  地区            产品 ID    类别  子类别                产品名称        销售额  \\\n",
       "0    浙江  中国  华东  办公用-用品-10002717  办公用品   用品      Fiskars 剪刀, 蓝色    163.696   \n",
       "1    四川  中国  西南  办公用-信封-10004832  办公用品   信封  GlobeWeis 搭扣信封, 红色    159.440   \n",
       "2    四川  中国  西南  办公用-装订-10001505  办公用品  装订机  Cardinal 孔加固材料, 回收     65.920   \n",
       "3    广东  中国  中南  办公用-器具-10003452  办公用品   器具  KitchenAid 搅拌机, 黑色   1409.920   \n",
       "4    江西  中国  华东   技术-设备-10001640    技术   设备         柯尼卡 打印机, 红色  11163.580   \n",
       "\n",
       "   数量    折扣        利润  \n",
       "0  10  0.37   -60.704  \n",
       "1  10  0.00    42.560  \n",
       "2  10  0.37     4.200  \n",
       "3  11  0.00   550.200  \n",
       "4  17  0.00  3783.780  "
      ]
     },
     "execution_count": 2,
     "metadata": {},
     "output_type": "execute_result"
    }
   ],
   "source": [
    "df = pd.read_excel(r\"C:\\Users\\zhoux\\Downloads\\data\\E-Business.xlsx\")\n",
    "df.head()"
   ]
  },
  {
   "cell_type": "code",
   "execution_count": 3,
   "metadata": {},
   "outputs": [
    {
     "data": {
      "text/plain": [
       "(9268, 20)"
      ]
     },
     "execution_count": 3,
     "metadata": {},
     "output_type": "execute_result"
    }
   ],
   "source": [
    "df.shape"
   ]
  },
  {
   "cell_type": "markdown",
   "metadata": {},
   "source": [
    "### 年销售量增长趋势"
   ]
  },
  {
   "cell_type": "code",
   "execution_count": 93,
   "metadata": {},
   "outputs": [
    {
     "data": {
      "text/plain": [
       "[2990794.4150000024, 3505733.4629999995, 4333775.860000002, 4540400.743999999]"
      ]
     },
     "execution_count": 93,
     "metadata": {},
     "output_type": "execute_result"
    }
   ],
   "source": [
    "sales_year = df.groupby('订单日期').sum()\n",
    "sales2016 = sales_year['2016'].sum()['销售额']\n",
    "sales2017 = sales_year['2017'].sum()['销售额']\n",
    "sales2018 = sales_year['2018'].sum()['销售额']\n",
    "sales2019 = sales_year['2019'].sum()['销售额']\n",
    "\n",
    "sales_list = [sales2016,sales2017,sales2018,sales2019]\n",
    "sales_list"
   ]
  },
  {
   "cell_type": "code",
   "execution_count": 103,
   "metadata": {},
   "outputs": [
    {
     "data": {
      "image/png": "[encoded data removed]",
      "text/plain": [
       "<Figure size 640x480 with 1 Axes>"
      ]
     },
     "metadata": {
      "needs_background": "light"
     },
     "output_type": "display_data"
    }
   ],
   "source": [
    "import matplotlib.pyplot as plt\n",
    "from matplotlib import font_manager\n",
    "\n",
    "plt.figure(figsize = (8,6), dpi= 80)\n",
    "plt.plot(['2016','2017','2018','2019'],sales_list,linewidth = 3, marker = 'o')\n",
    "plt.title('The Revenue from 2016-2019')\n",
    "plt.xlabel('Year')\n",
    "plt.ylabel('The Revenue (million)')\n",
    "plt.grid('darkgray', linestyle = '-.')\n",
    "plt.show()"
   ]
  },
  {
   "cell_type": "markdown",
   "metadata": {},
   "source": [
    "### 各省市销量，销售额，利润"
   ]
  },
  {
   "cell_type": "code",
   "execution_count": 4,
   "metadata": {},
   "outputs": [
    {
     "data": {
      "text/html": [
       "<div>\n",
       "<style scoped>\n",
       "    .dataframe tbody tr th:only-of-type {\n",
       "        vertical-align: middle;\n",
       "    }\n",
       "\n",
       "    .dataframe tbody tr th {\n",
       "        vertical-align: top;\n",
       "    }\n",
       "\n",
       "    .dataframe thead th {\n",
       "        text-align: right;\n",
       "    }\n",
       "</style>\n",
       "<table border=\"1\" class=\"dataframe\">\n",
       "  <thead>\n",
       "    <tr style=\"text-align: right;\">\n",
       "      <th></th>\n",
       "      <th>行 ID</th>\n",
       "      <th>销售额</th>\n",
       "      <th>数量</th>\n",
       "      <th>折扣</th>\n",
       "      <th>利润</th>\n",
       "    </tr>\n",
       "    <tr>\n",
       "      <th>省/自治区</th>\n",
       "      <th></th>\n",
       "      <th></th>\n",
       "      <th></th>\n",
       "      <th></th>\n",
       "      <th></th>\n",
       "    </tr>\n",
       "  </thead>\n",
       "  <tbody>\n",
       "    <tr>\n",
       "      <th>上海</th>\n",
       "      <td>1331714</td>\n",
       "      <td>559833.728</td>\n",
       "      <td>3262</td>\n",
       "      <td>1.85</td>\n",
       "      <td>118028.148</td>\n",
       "    </tr>\n",
       "    <tr>\n",
       "      <th>云南</th>\n",
       "      <td>659706</td>\n",
       "      <td>335588.224</td>\n",
       "      <td>1842</td>\n",
       "      <td>2.34</td>\n",
       "      <td>76789.104</td>\n",
       "    </tr>\n",
       "    <tr>\n",
       "      <th>内蒙古</th>\n",
       "      <td>1005965</td>\n",
       "      <td>267942.604</td>\n",
       "      <td>2531</td>\n",
       "      <td>62.80</td>\n",
       "      <td>-56557.256</td>\n",
       "    </tr>\n",
       "    <tr>\n",
       "      <th>北京</th>\n",
       "      <td>1170343</td>\n",
       "      <td>395670.420</td>\n",
       "      <td>2689</td>\n",
       "      <td>0.00</td>\n",
       "      <td>86252.460</td>\n",
       "    </tr>\n",
       "    <tr>\n",
       "      <th>吉林</th>\n",
       "      <td>1746221</td>\n",
       "      <td>640075.136</td>\n",
       "      <td>3896</td>\n",
       "      <td>5.15</td>\n",
       "      <td>150089.016</td>\n",
       "    </tr>\n",
       "    <tr>\n",
       "      <th>四川</th>\n",
       "      <td>1818338</td>\n",
       "      <td>389887.408</td>\n",
       "      <td>4332</td>\n",
       "      <td>113.03</td>\n",
       "      <td>-87288.852</td>\n",
       "    </tr>\n",
       "    <tr>\n",
       "      <th>天津</th>\n",
       "      <td>1554166</td>\n",
       "      <td>524898.590</td>\n",
       "      <td>3402</td>\n",
       "      <td>1.50</td>\n",
       "      <td>106867.670</td>\n",
       "    </tr>\n",
       "    <tr>\n",
       "      <th>宁夏</th>\n",
       "      <td>218516</td>\n",
       "      <td>59157.800</td>\n",
       "      <td>420</td>\n",
       "      <td>0.74</td>\n",
       "      <td>8442.700</td>\n",
       "    </tr>\n",
       "    <tr>\n",
       "      <th>安徽</th>\n",
       "      <td>1635063</td>\n",
       "      <td>585681.510</td>\n",
       "      <td>3712</td>\n",
       "      <td>5.10</td>\n",
       "      <td>132539.470</td>\n",
       "    </tr>\n",
       "    <tr>\n",
       "      <th>山东</th>\n",
       "      <td>4198354</td>\n",
       "      <td>1536900.848</td>\n",
       "      <td>10038</td>\n",
       "      <td>2.22</td>\n",
       "      <td>367739.428</td>\n",
       "    </tr>\n",
       "    <tr>\n",
       "      <th>山西</th>\n",
       "      <td>977647</td>\n",
       "      <td>413351.650</td>\n",
       "      <td>2205</td>\n",
       "      <td>1.00</td>\n",
       "      <td>103932.990</td>\n",
       "    </tr>\n",
       "    <tr>\n",
       "      <th>广东</th>\n",
       "      <td>4097748</td>\n",
       "      <td>1415184.843</td>\n",
       "      <td>9274</td>\n",
       "      <td>18.65</td>\n",
       "      <td>324819.383</td>\n",
       "    </tr>\n",
       "    <tr>\n",
       "      <th>广西</th>\n",
       "      <td>1004103</td>\n",
       "      <td>350846.886</td>\n",
       "      <td>2339</td>\n",
       "      <td>4.15</td>\n",
       "      <td>75594.526</td>\n",
       "    </tr>\n",
       "    <tr>\n",
       "      <th>新疆</th>\n",
       "      <td>121399</td>\n",
       "      <td>44556.440</td>\n",
       "      <td>297</td>\n",
       "      <td>0.74</td>\n",
       "      <td>7870.940</td>\n",
       "    </tr>\n",
       "    <tr>\n",
       "      <th>江苏</th>\n",
       "      <td>2755788</td>\n",
       "      <td>628428.664</td>\n",
       "      <td>6426</td>\n",
       "      <td>162.28</td>\n",
       "      <td>-95699.436</td>\n",
       "    </tr>\n",
       "    <tr>\n",
       "      <th>江西</th>\n",
       "      <td>529090</td>\n",
       "      <td>221274.880</td>\n",
       "      <td>1471</td>\n",
       "      <td>0.74</td>\n",
       "      <td>42694.680</td>\n",
       "    </tr>\n",
       "    <tr>\n",
       "      <th>河北</th>\n",
       "      <td>1843809</td>\n",
       "      <td>777592.905</td>\n",
       "      <td>4305</td>\n",
       "      <td>3.00</td>\n",
       "      <td>166143.845</td>\n",
       "    </tr>\n",
       "    <tr>\n",
       "      <th>河南</th>\n",
       "      <td>2169159</td>\n",
       "      <td>836359.079</td>\n",
       "      <td>5110</td>\n",
       "      <td>9.90</td>\n",
       "      <td>193044.019</td>\n",
       "    </tr>\n",
       "    <tr>\n",
       "      <th>浙江</th>\n",
       "      <td>1842592</td>\n",
       "      <td>407934.916</td>\n",
       "      <td>4321</td>\n",
       "      <td>109.49</td>\n",
       "      <td>-111631.044</td>\n",
       "    </tr>\n",
       "    <tr>\n",
       "      <th>海南</th>\n",
       "      <td>453871</td>\n",
       "      <td>172792.843</td>\n",
       "      <td>1232</td>\n",
       "      <td>2.15</td>\n",
       "      <td>39722.123</td>\n",
       "    </tr>\n",
       "    <tr>\n",
       "      <th>湖北</th>\n",
       "      <td>2789807</td>\n",
       "      <td>585251.552</td>\n",
       "      <td>6107</td>\n",
       "      <td>158.28</td>\n",
       "      <td>-115553.228</td>\n",
       "    </tr>\n",
       "    <tr>\n",
       "      <th>湖南</th>\n",
       "      <td>1970934</td>\n",
       "      <td>701140.413</td>\n",
       "      <td>4822</td>\n",
       "      <td>10.15</td>\n",
       "      <td>147729.953</td>\n",
       "    </tr>\n",
       "    <tr>\n",
       "      <th>甘肃</th>\n",
       "      <td>653734</td>\n",
       "      <td>163956.732</td>\n",
       "      <td>1577</td>\n",
       "      <td>43.18</td>\n",
       "      <td>-33540.668</td>\n",
       "    </tr>\n",
       "    <tr>\n",
       "      <th>福建</th>\n",
       "      <td>1205195</td>\n",
       "      <td>520496.472</td>\n",
       "      <td>2863</td>\n",
       "      <td>1.11</td>\n",
       "      <td>132838.132</td>\n",
       "    </tr>\n",
       "    <tr>\n",
       "      <th>西藏</th>\n",
       "      <td>29970</td>\n",
       "      <td>4606.320</td>\n",
       "      <td>57</td>\n",
       "      <td>0.00</td>\n",
       "      <td>867.160</td>\n",
       "    </tr>\n",
       "    <tr>\n",
       "      <th>贵州</th>\n",
       "      <td>421413</td>\n",
       "      <td>108829.920</td>\n",
       "      <td>907</td>\n",
       "      <td>1.20</td>\n",
       "      <td>18249.700</td>\n",
       "    </tr>\n",
       "    <tr>\n",
       "      <th>辽宁</th>\n",
       "      <td>3033271</td>\n",
       "      <td>809522.760</td>\n",
       "      <td>7451</td>\n",
       "      <td>187.76</td>\n",
       "      <td>-156411.780</td>\n",
       "    </tr>\n",
       "    <tr>\n",
       "      <th>重庆</th>\n",
       "      <td>1077321</td>\n",
       "      <td>331574.872</td>\n",
       "      <td>2413</td>\n",
       "      <td>3.68</td>\n",
       "      <td>54109.412</td>\n",
       "    </tr>\n",
       "    <tr>\n",
       "      <th>陕西</th>\n",
       "      <td>1083168</td>\n",
       "      <td>428424.268</td>\n",
       "      <td>2558</td>\n",
       "      <td>1.48</td>\n",
       "      <td>100347.688</td>\n",
       "    </tr>\n",
       "    <tr>\n",
       "      <th>青海</th>\n",
       "      <td>113051</td>\n",
       "      <td>45536.700</td>\n",
       "      <td>239</td>\n",
       "      <td>0.37</td>\n",
       "      <td>10074.540</td>\n",
       "    </tr>\n",
       "    <tr>\n",
       "      <th>黑龙江</th>\n",
       "      <td>2892387</td>\n",
       "      <td>1107405.099</td>\n",
       "      <td>6988</td>\n",
       "      <td>8.70</td>\n",
       "      <td>233323.279</td>\n",
       "    </tr>\n",
       "  </tbody>\n",
       "</table>\n",
       "</div>"
      ],
      "text/plain": [
       "          行 ID          销售额     数量      折扣          利润\n",
       "省/自治区                                                 \n",
       "上海     1331714   559833.728   3262    1.85  118028.148\n",
       "云南      659706   335588.224   1842    2.34   76789.104\n",
       "内蒙古    1005965   267942.604   2531   62.80  -56557.256\n",
       "北京     1170343   395670.420   2689    0.00   86252.460\n",
       "吉林     1746221   640075.136   3896    5.15  150089.016\n",
       "四川     1818338   389887.408   4332  113.03  -87288.852\n",
       "天津     1554166   524898.590   3402    1.50  106867.670\n",
       "宁夏      218516    59157.800    420    0.74    8442.700\n",
       "安徽     1635063   585681.510   3712    5.10  132539.470\n",
       "山东     4198354  1536900.848  10038    2.22  367739.428\n",
       "山西      977647   413351.650   2205    1.00  103932.990\n",
       "广东     4097748  1415184.843   9274   18.65  324819.383\n",
       "广西     1004103   350846.886   2339    4.15   75594.526\n",
       "新疆      121399    44556.440    297    0.74    7870.940\n",
       "江苏     2755788   628428.664   6426  162.28  -95699.436\n",
       "江西      529090   221274.880   1471    0.74   42694.680\n",
       "河北     1843809   777592.905   4305    3.00  166143.845\n",
       "河南     2169159   836359.079   5110    9.90  193044.019\n",
       "浙江     1842592   407934.916   4321  109.49 -111631.044\n",
       "海南      453871   172792.843   1232    2.15   39722.123\n",
       "湖北     2789807   585251.552   6107  158.28 -115553.228\n",
       "湖南     1970934   701140.413   4822   10.15  147729.953\n",
       "甘肃      653734   163956.732   1577   43.18  -33540.668\n",
       "福建     1205195   520496.472   2863    1.11  132838.132\n",
       "西藏       29970     4606.320     57    0.00     867.160\n",
       "贵州      421413   108829.920    907    1.20   18249.700\n",
       "辽宁     3033271   809522.760   7451  187.76 -156411.780\n",
       "重庆     1077321   331574.872   2413    3.68   54109.412\n",
       "陕西     1083168   428424.268   2558    1.48  100347.688\n",
       "青海      113051    45536.700    239    0.37   10074.540\n",
       "黑龙江    2892387  1107405.099   6988    8.70  233323.279"
      ]
     },
     "execution_count": 4,
     "metadata": {},
     "output_type": "execute_result"
    }
   ],
   "source": [
    "region = df.groupby('省/自治区').sum()\n",
    "region"
   ]
  },
  {
   "cell_type": "markdown",
   "metadata": {},
   "source": [
    "### 销售业绩TOP10"
   ]
  },
  {
   "cell_type": "code",
   "execution_count": 36,
   "metadata": {},
   "outputs": [
    {
     "name": "stdout",
     "output_type": "stream",
     "text": [
      "省/自治区\n",
      "山东     1536900.848\n",
      "广东     1415184.843\n",
      "黑龙江    1107405.099\n",
      "河南      836359.079\n",
      "辽宁      809522.760\n",
      "河北      777592.905\n",
      "湖南      701140.413\n",
      "吉林      640075.136\n",
      "江苏      628428.664\n",
      "安徽      585681.510\n",
      "Name: 销售额, dtype: float64\n"
     ]
    }
   ],
   "source": [
    "sales = region['销售额'].sort_values(ascending = False)[0:10]\n",
    "print(sales)"
   ]
  },
  {
   "cell_type": "markdown",
   "metadata": {},
   "source": [
    "### 利润TOP10, Last 10 及占比"
   ]
  },
  {
   "cell_type": "code",
   "execution_count": 44,
   "metadata": {},
   "outputs": [
    {
     "data": {
      "text/plain": [
       "省/自治区\n",
       "山东     367739.428\n",
       "广东     324819.383\n",
       "黑龙江    233323.279\n",
       "河南     193044.019\n",
       "河北     166143.845\n",
       "吉林     150089.016\n",
       "湖南     147729.953\n",
       "福建     132838.132\n",
       "安徽     132539.470\n",
       "上海     118028.148\n",
       "Name: 利润, dtype: float64"
      ]
     },
     "execution_count": 44,
     "metadata": {},
     "output_type": "execute_result"
    }
   ],
   "source": [
    "profits = region['利润'].sort_values(ascending = False)\n",
    "profits[0:10]"
   ]
  },
  {
   "cell_type": "code",
   "execution_count": 46,
   "metadata": {},
   "outputs": [
    {
     "data": {
      "text/plain": [
       "省/自治区\n",
       "青海      10074.540\n",
       "宁夏       8442.700\n",
       "新疆       7870.940\n",
       "西藏        867.160\n",
       "甘肃     -33540.668\n",
       "内蒙古    -56557.256\n",
       "四川     -87288.852\n",
       "江苏     -95699.436\n",
       "浙江    -111631.044\n",
       "湖北    -115553.228\n",
       "Name: 利润, dtype: float64"
      ]
     },
     "execution_count": 46,
     "metadata": {},
     "output_type": "execute_result"
    }
   ],
   "source": [
    "profits[-11:-1]"
   ]
  },
  {
   "cell_type": "code",
   "execution_count": 55,
   "metadata": {},
   "outputs": [
    {
     "data": {
      "text/plain": [
       "Text(0.5, 1.0, 'Profits by Region (Top 20)')"
      ]
     },
     "execution_count": 55,
     "metadata": {},
     "output_type": "execute_result"
    },
    {
     "data": {
      "image/png": "[encoded data removed]",
      "text/plain": [
       "<Figure size 800x640 with 1 Axes>"
      ]
     },
     "metadata": {},
     "output_type": "display_data"
    }
   ],
   "source": [
    "\n",
    "my_font = font_manager.FontProperties(fname=r\"C:\\Users\\zhoux\\Downloads\\data\\STSONG.TTF\")\n",
    "\n",
    "plt.figure(figsize=(10,8), dpi=80)\n",
    "\n",
    "patches, l_list1, p_list = plt.pie(profits[0:20], labels = profits[0:20].index, autopct = '%.1f%%', startangle= 90)\n",
    "for i in l_list1:\n",
    "    i.set_fontproperties(my_font)\n",
    "    \n",
    "plt.title('Profits by Region (Top 20)')\n"
   ]
  },
  {
   "cell_type": "markdown",
   "metadata": {},
   "source": [
    "### 消费者类型利润占比"
   ]
  },
  {
   "cell_type": "code",
   "execution_count": 58,
   "metadata": {},
   "outputs": [
    {
     "data": {
      "text/plain": [
       "细分\n",
       "公司      2879\n",
       "小型企业    1654\n",
       "消费者     4735\n",
       "dtype: int64"
      ]
     },
     "execution_count": 58,
     "metadata": {},
     "output_type": "execute_result"
    }
   ],
   "source": [
    "group_ctype = df.groupby('细分').size()\n",
    "group_ctype"
   ]
  },
  {
   "cell_type": "code",
   "execution_count": 64,
   "metadata": {},
   "outputs": [
    {
     "data": {
      "text/plain": [
       "Text(0.5, 1.0, 'Clients Category Percentage')"
      ]
     },
     "execution_count": 64,
     "metadata": {},
     "output_type": "execute_result"
    },
    {
     "data": {
      "image/png": "[encoded data removed]",
      "text/plain": [
       "<Figure size 800x640 with 1 Axes>"
      ]
     },
     "metadata": {},
     "output_type": "display_data"
    }
   ],
   "source": [
    "plt.figure(figsize=(10,8), dpi=80)\n",
    "\n",
    "patches, l_list1, p_list = plt.pie(group_ctype, labels = group_ctype.index, autopct = '%.1f%%', startangle= 90)\n",
    "for i in l_list1:\n",
    "    i.set_fontproperties(my_font)\n",
    "plt.legend(prop = my_font)\n",
    "    \n",
    "plt.title('Clients Category Percentage')"
   ]
  },
  {
   "cell_type": "markdown",
   "metadata": {},
   "source": [
    "### 产品子类别占比"
   ]
  },
  {
   "cell_type": "code",
   "execution_count": 78,
   "metadata": {},
   "outputs": [
    {
     "data": {
      "text/plain": [
       "子类别\n",
       "书架     6825\n",
       "信封     6644\n",
       "器具     6066\n",
       "复印机    6176\n",
       "收纳具    8755\n",
       "标签     6082\n",
       "桌子     1853\n",
       "椅子     9430\n",
       "用具     6609\n",
       "用品     6604\n",
       "电话     6416\n",
       "系固件    6433\n",
       "纸张     6083\n",
       "美术     5982\n",
       "装订机    9609\n",
       "设备     3398\n",
       "配件     6121\n",
       "Name: 数量, dtype: int64"
      ]
     },
     "execution_count": 78,
     "metadata": {},
     "output_type": "execute_result"
    }
   ],
   "source": [
    "group_prd = df.groupby('子类别').sum()['数量']\n",
    "group_prd"
   ]
  },
  {
   "cell_type": "code",
   "execution_count": 83,
   "metadata": {},
   "outputs": [
    {
     "data": {
      "image/png": "[encoded data removed]",
      "text/plain": [
       "<Figure size 720x576 with 1 Axes>"
      ]
     },
     "metadata": {
      "needs_background": "light"
     },
     "output_type": "display_data"
    }
   ],
   "source": [
    "plt.figure(figsize = (10,8))\n",
    "plt.bar(group_prd.index, group_prd.values)\n",
    "plt.xticks(group_prd.index,fontproperties = my_font)\n",
    "plt.title('产品子类销量Review',fontproperties = my_font)\n",
    "plt.xlabel('产品子类', fontproperties = my_font)\n",
    "plt.ylabel('销售总数量', fontproperties = my_font)\n",
    "plt.show()"
   ]
  },
  {
   "cell_type": "code",
   "execution_count": null,
   "metadata": {},
   "outputs": [],
   "source": []
  }
 ],
 "metadata": {
  "kernelspec": {
   "display_name": "Python 3",
   "language": "python",
   "name": "python3"
  },
  "language_info": {
   "codemirror_mode": {
    "name": "ipython",
    "version": 3
   },
   "file_extension": ".py",
   "mimetype": "text/x-python",
   "name": "python",
   "nbconvert_exporter": "python",
   "pygments_lexer": "ipython3",
   "version": "3.7.7"
  }
 },
 "nbformat": 4,
 "nbformat_minor": 4
}
